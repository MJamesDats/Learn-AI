{
  "nbformat": 4,
  "nbformat_minor": 0,
  "metadata": {
    "colab": {
      "provenance": []
    },
    "kernelspec": {
      "name": "python3",
      "display_name": "Python 3"
    },
    "language_info": {
      "name": "python"
    }
  },
  "cells": [
    {
      "cell_type": "markdown",
      "source": [],
      "metadata": {
        "id": "PpWYhSztTHu_"
      }
    },
    {
      "cell_type": "markdown",
      "source": [
        "Importing necessary libraries that can be used."
      ],
      "metadata": {
        "id": "PuDPXvRDUCLG"
      }
    },
    {
      "cell_type": "code",
      "execution_count": null,
      "metadata": {
        "id": "hYh2x-4fS7iu"
      },
      "outputs": [],
      "source": [
        "import pandas as pd"
      ]
    },
    {
      "cell_type": "markdown",
      "source": [
        "Importing the dataset to the google colab. It will also show the 6 columns of the dataset."
      ],
      "metadata": {
        "id": "OFWzG5_IUIvv"
      }
    },
    {
      "cell_type": "code",
      "source": [
        "from google.colab import drive\n",
        "drive.mount('/content/drive')\n",
        "df = pd.read_csv('/content/drive/MyDrive/ELECTIVE 4/Exercise 2/universal_studio_branches.csv')\n",
        "df.head()"
      ],
      "metadata": {
        "colab": {
          "base_uri": "https://localhost:8080/",
          "height": 224
        },
        "id": "c1Msg2EJUAq_",
        "outputId": "449f2c04-eec7-466e-cfb6-239a0f386ad7"
      },
      "execution_count": null,
      "outputs": [
        {
          "output_type": "stream",
          "name": "stdout",
          "text": [
            "Drive already mounted at /content/drive; to attempt to forcibly remount, call drive.mount(\"/content/drive\", force_remount=True).\n"
          ]
        },
        {
          "output_type": "execute_result",
          "data": {
            "text/plain": [
              "          reviewer  rating  written_date  \\\n",
              "0          Kelly B     2.0  May 30, 2021   \n",
              "1              Jon     1.0  May 30, 2021   \n",
              "2          Nerdy P     2.0  May 30, 2021   \n",
              "3        ran101278     4.0  May 29, 2021   \n",
              "4  tammies20132015     5.0  May 28, 2021   \n",
              "\n",
              "                                               title  \\\n",
              "0  Universal is a complete Disaster - stick with ...   \n",
              "1                               Food is hard to get.   \n",
              "2                                       Disappointed   \n",
              "3                                         My opinion   \n",
              "4                  The Bourne Stuntacular...MUST SEE   \n",
              "\n",
              "                                         review_text  \\\n",
              "0  We went to Universal over Memorial Day weekend...   \n",
              "1  The food service is horrible. I’m not reviewin...   \n",
              "2  I booked this vacation mainly to ride Hagrid m...   \n",
              "3  When a person tries the test seat for the ride...   \n",
              "4  Ok, I can't stress enough to anyone and everyo...   \n",
              "\n",
              "                      branch  \n",
              "0  Universal Studios Florida  \n",
              "1  Universal Studios Florida  \n",
              "2  Universal Studios Florida  \n",
              "3  Universal Studios Florida  \n",
              "4  Universal Studios Florida  "
            ],
            "text/html": [
              "\n",
              "  <div id=\"df-0e66d3b2-2382-44fe-9faf-c2844b2ae40e\" class=\"colab-df-container\">\n",
              "    <div>\n",
              "<style scoped>\n",
              "    .dataframe tbody tr th:only-of-type {\n",
              "        vertical-align: middle;\n",
              "    }\n",
              "\n",
              "    .dataframe tbody tr th {\n",
              "        vertical-align: top;\n",
              "    }\n",
              "\n",
              "    .dataframe thead th {\n",
              "        text-align: right;\n",
              "    }\n",
              "</style>\n",
              "<table border=\"1\" class=\"dataframe\">\n",
              "  <thead>\n",
              "    <tr style=\"text-align: right;\">\n",
              "      <th></th>\n",
              "      <th>reviewer</th>\n",
              "      <th>rating</th>\n",
              "      <th>written_date</th>\n",
              "      <th>title</th>\n",
              "      <th>review_text</th>\n",
              "      <th>branch</th>\n",
              "    </tr>\n",
              "  </thead>\n",
              "  <tbody>\n",
              "    <tr>\n",
              "      <th>0</th>\n",
              "      <td>Kelly B</td>\n",
              "      <td>2.0</td>\n",
              "      <td>May 30, 2021</td>\n",
              "      <td>Universal is a complete Disaster - stick with ...</td>\n",
              "      <td>We went to Universal over Memorial Day weekend...</td>\n",
              "      <td>Universal Studios Florida</td>\n",
              "    </tr>\n",
              "    <tr>\n",
              "      <th>1</th>\n",
              "      <td>Jon</td>\n",
              "      <td>1.0</td>\n",
              "      <td>May 30, 2021</td>\n",
              "      <td>Food is hard to get.</td>\n",
              "      <td>The food service is horrible. I’m not reviewin...</td>\n",
              "      <td>Universal Studios Florida</td>\n",
              "    </tr>\n",
              "    <tr>\n",
              "      <th>2</th>\n",
              "      <td>Nerdy P</td>\n",
              "      <td>2.0</td>\n",
              "      <td>May 30, 2021</td>\n",
              "      <td>Disappointed</td>\n",
              "      <td>I booked this vacation mainly to ride Hagrid m...</td>\n",
              "      <td>Universal Studios Florida</td>\n",
              "    </tr>\n",
              "    <tr>\n",
              "      <th>3</th>\n",
              "      <td>ran101278</td>\n",
              "      <td>4.0</td>\n",
              "      <td>May 29, 2021</td>\n",
              "      <td>My opinion</td>\n",
              "      <td>When a person tries the test seat for the ride...</td>\n",
              "      <td>Universal Studios Florida</td>\n",
              "    </tr>\n",
              "    <tr>\n",
              "      <th>4</th>\n",
              "      <td>tammies20132015</td>\n",
              "      <td>5.0</td>\n",
              "      <td>May 28, 2021</td>\n",
              "      <td>The Bourne Stuntacular...MUST SEE</td>\n",
              "      <td>Ok, I can't stress enough to anyone and everyo...</td>\n",
              "      <td>Universal Studios Florida</td>\n",
              "    </tr>\n",
              "  </tbody>\n",
              "</table>\n",
              "</div>\n",
              "    <div class=\"colab-df-buttons\">\n",
              "\n",
              "  <div class=\"colab-df-container\">\n",
              "    <button class=\"colab-df-convert\" onclick=\"convertToInteractive('df-0e66d3b2-2382-44fe-9faf-c2844b2ae40e')\"\n",
              "            title=\"Convert this dataframe to an interactive table.\"\n",
              "            style=\"display:none;\">\n",
              "\n",
              "  <svg xmlns=\"http://www.w3.org/2000/svg\" height=\"24px\" viewBox=\"0 -960 960 960\">\n",
              "    <path d=\"M120-120v-720h720v720H120Zm60-500h600v-160H180v160Zm220 220h160v-160H400v160Zm0 220h160v-160H400v160ZM180-400h160v-160H180v160Zm440 0h160v-160H620v160ZM180-180h160v-160H180v160Zm440 0h160v-160H620v160Z\"/>\n",
              "  </svg>\n",
              "    </button>\n",
              "\n",
              "  <style>\n",
              "    .colab-df-container {\n",
              "      display:flex;\n",
              "      gap: 12px;\n",
              "    }\n",
              "\n",
              "    .colab-df-convert {\n",
              "      background-color: #E8F0FE;\n",
              "      border: none;\n",
              "      border-radius: 50%;\n",
              "      cursor: pointer;\n",
              "      display: none;\n",
              "      fill: #1967D2;\n",
              "      height: 32px;\n",
              "      padding: 0 0 0 0;\n",
              "      width: 32px;\n",
              "    }\n",
              "\n",
              "    .colab-df-convert:hover {\n",
              "      background-color: #E2EBFA;\n",
              "      box-shadow: 0px 1px 2px rgba(60, 64, 67, 0.3), 0px 1px 3px 1px rgba(60, 64, 67, 0.15);\n",
              "      fill: #174EA6;\n",
              "    }\n",
              "\n",
              "    .colab-df-buttons div {\n",
              "      margin-bottom: 4px;\n",
              "    }\n",
              "\n",
              "    [theme=dark] .colab-df-convert {\n",
              "      background-color: #3B4455;\n",
              "      fill: #D2E3FC;\n",
              "    }\n",
              "\n",
              "    [theme=dark] .colab-df-convert:hover {\n",
              "      background-color: #434B5C;\n",
              "      box-shadow: 0px 1px 3px 1px rgba(0, 0, 0, 0.15);\n",
              "      filter: drop-shadow(0px 1px 2px rgba(0, 0, 0, 0.3));\n",
              "      fill: #FFFFFF;\n",
              "    }\n",
              "  </style>\n",
              "\n",
              "    <script>\n",
              "      const buttonEl =\n",
              "        document.querySelector('#df-0e66d3b2-2382-44fe-9faf-c2844b2ae40e button.colab-df-convert');\n",
              "      buttonEl.style.display =\n",
              "        google.colab.kernel.accessAllowed ? 'block' : 'none';\n",
              "\n",
              "      async function convertToInteractive(key) {\n",
              "        const element = document.querySelector('#df-0e66d3b2-2382-44fe-9faf-c2844b2ae40e');\n",
              "        const dataTable =\n",
              "          await google.colab.kernel.invokeFunction('convertToInteractive',\n",
              "                                                    [key], {});\n",
              "        if (!dataTable) return;\n",
              "\n",
              "        const docLinkHtml = 'Like what you see? Visit the ' +\n",
              "          '<a target=\"_blank\" href=https://colab.research.google.com/notebooks/data_table.ipynb>data table notebook</a>'\n",
              "          + ' to learn more about interactive tables.';\n",
              "        element.innerHTML = '';\n",
              "        dataTable['output_type'] = 'display_data';\n",
              "        await google.colab.output.renderOutput(dataTable, element);\n",
              "        const docLink = document.createElement('div');\n",
              "        docLink.innerHTML = docLinkHtml;\n",
              "        element.appendChild(docLink);\n",
              "      }\n",
              "    </script>\n",
              "  </div>\n",
              "\n",
              "\n",
              "<div id=\"df-d8fe3e49-2f2c-4a13-a043-299ad530afe6\">\n",
              "  <button class=\"colab-df-quickchart\" onclick=\"quickchart('df-d8fe3e49-2f2c-4a13-a043-299ad530afe6')\"\n",
              "            title=\"Suggest charts\"\n",
              "            style=\"display:none;\">\n",
              "\n",
              "<svg xmlns=\"http://www.w3.org/2000/svg\" height=\"24px\"viewBox=\"0 0 24 24\"\n",
              "     width=\"24px\">\n",
              "    <g>\n",
              "        <path d=\"M19 3H5c-1.1 0-2 .9-2 2v14c0 1.1.9 2 2 2h14c1.1 0 2-.9 2-2V5c0-1.1-.9-2-2-2zM9 17H7v-7h2v7zm4 0h-2V7h2v10zm4 0h-2v-4h2v4z\"/>\n",
              "    </g>\n",
              "</svg>\n",
              "  </button>\n",
              "\n",
              "<style>\n",
              "  .colab-df-quickchart {\n",
              "      --bg-color: #E8F0FE;\n",
              "      --fill-color: #1967D2;\n",
              "      --hover-bg-color: #E2EBFA;\n",
              "      --hover-fill-color: #174EA6;\n",
              "      --disabled-fill-color: #AAA;\n",
              "      --disabled-bg-color: #DDD;\n",
              "  }\n",
              "\n",
              "  [theme=dark] .colab-df-quickchart {\n",
              "      --bg-color: #3B4455;\n",
              "      --fill-color: #D2E3FC;\n",
              "      --hover-bg-color: #434B5C;\n",
              "      --hover-fill-color: #FFFFFF;\n",
              "      --disabled-bg-color: #3B4455;\n",
              "      --disabled-fill-color: #666;\n",
              "  }\n",
              "\n",
              "  .colab-df-quickchart {\n",
              "    background-color: var(--bg-color);\n",
              "    border: none;\n",
              "    border-radius: 50%;\n",
              "    cursor: pointer;\n",
              "    display: none;\n",
              "    fill: var(--fill-color);\n",
              "    height: 32px;\n",
              "    padding: 0;\n",
              "    width: 32px;\n",
              "  }\n",
              "\n",
              "  .colab-df-quickchart:hover {\n",
              "    background-color: var(--hover-bg-color);\n",
              "    box-shadow: 0 1px 2px rgba(60, 64, 67, 0.3), 0 1px 3px 1px rgba(60, 64, 67, 0.15);\n",
              "    fill: var(--button-hover-fill-color);\n",
              "  }\n",
              "\n",
              "  .colab-df-quickchart-complete:disabled,\n",
              "  .colab-df-quickchart-complete:disabled:hover {\n",
              "    background-color: var(--disabled-bg-color);\n",
              "    fill: var(--disabled-fill-color);\n",
              "    box-shadow: none;\n",
              "  }\n",
              "\n",
              "  .colab-df-spinner {\n",
              "    border: 2px solid var(--fill-color);\n",
              "    border-color: transparent;\n",
              "    border-bottom-color: var(--fill-color);\n",
              "    animation:\n",
              "      spin 1s steps(1) infinite;\n",
              "  }\n",
              "\n",
              "  @keyframes spin {\n",
              "    0% {\n",
              "      border-color: transparent;\n",
              "      border-bottom-color: var(--fill-color);\n",
              "      border-left-color: var(--fill-color);\n",
              "    }\n",
              "    20% {\n",
              "      border-color: transparent;\n",
              "      border-left-color: var(--fill-color);\n",
              "      border-top-color: var(--fill-color);\n",
              "    }\n",
              "    30% {\n",
              "      border-color: transparent;\n",
              "      border-left-color: var(--fill-color);\n",
              "      border-top-color: var(--fill-color);\n",
              "      border-right-color: var(--fill-color);\n",
              "    }\n",
              "    40% {\n",
              "      border-color: transparent;\n",
              "      border-right-color: var(--fill-color);\n",
              "      border-top-color: var(--fill-color);\n",
              "    }\n",
              "    60% {\n",
              "      border-color: transparent;\n",
              "      border-right-color: var(--fill-color);\n",
              "    }\n",
              "    80% {\n",
              "      border-color: transparent;\n",
              "      border-right-color: var(--fill-color);\n",
              "      border-bottom-color: var(--fill-color);\n",
              "    }\n",
              "    90% {\n",
              "      border-color: transparent;\n",
              "      border-bottom-color: var(--fill-color);\n",
              "    }\n",
              "  }\n",
              "</style>\n",
              "\n",
              "  <script>\n",
              "    async function quickchart(key) {\n",
              "      const quickchartButtonEl =\n",
              "        document.querySelector('#' + key + ' button');\n",
              "      quickchartButtonEl.disabled = true;  // To prevent multiple clicks.\n",
              "      quickchartButtonEl.classList.add('colab-df-spinner');\n",
              "      try {\n",
              "        const charts = await google.colab.kernel.invokeFunction(\n",
              "            'suggestCharts', [key], {});\n",
              "      } catch (error) {\n",
              "        console.error('Error during call to suggestCharts:', error);\n",
              "      }\n",
              "      quickchartButtonEl.classList.remove('colab-df-spinner');\n",
              "      quickchartButtonEl.classList.add('colab-df-quickchart-complete');\n",
              "    }\n",
              "    (() => {\n",
              "      let quickchartButtonEl =\n",
              "        document.querySelector('#df-d8fe3e49-2f2c-4a13-a043-299ad530afe6 button');\n",
              "      quickchartButtonEl.style.display =\n",
              "        google.colab.kernel.accessAllowed ? 'block' : 'none';\n",
              "    })();\n",
              "  </script>\n",
              "</div>\n",
              "\n",
              "    </div>\n",
              "  </div>\n"
            ],
            "application/vnd.google.colaboratory.intrinsic+json": {
              "type": "dataframe",
              "variable_name": "df",
              "summary": "{\n  \"name\": \"df\",\n  \"rows\": 50904,\n  \"fields\": [\n    {\n      \"column\": \"reviewer\",\n      \"properties\": {\n        \"dtype\": \"string\",\n        \"num_unique_values\": 44086,\n        \"samples\": [\n          \"alicia w\",\n          \"mahtomedigirl\",\n          \"vamortensen\"\n        ],\n        \"semantic_type\": \"\",\n        \"description\": \"\"\n      }\n    },\n    {\n      \"column\": \"rating\",\n      \"properties\": {\n        \"dtype\": \"number\",\n        \"std\": 1.0467155427236479,\n        \"min\": 1.0,\n        \"max\": 5.0,\n        \"num_unique_values\": 5,\n        \"samples\": [\n          1.0,\n          3.0,\n          4.0\n        ],\n        \"semantic_type\": \"\",\n        \"description\": \"\"\n      }\n    },\n    {\n      \"column\": \"written_date\",\n      \"properties\": {\n        \"dtype\": \"object\",\n        \"num_unique_values\": 4276,\n        \"samples\": [\n          \"June 22, 2019\",\n          \"November 3, 2019\",\n          \"October 6, 2013\"\n        ],\n        \"semantic_type\": \"\",\n        \"description\": \"\"\n      }\n    },\n    {\n      \"column\": \"title\",\n      \"properties\": {\n        \"dtype\": \"string\",\n        \"num_unique_values\": 37522,\n        \"samples\": [\n          \"Not a movie studio\",\n          \"Great Park, but lacks the Magic\",\n          \"A wonderful day\"\n        ],\n        \"semantic_type\": \"\",\n        \"description\": \"\"\n      }\n    },\n    {\n      \"column\": \"review_text\",\n      \"properties\": {\n        \"dtype\": \"string\",\n        \"num_unique_values\": 50847,\n        \"samples\": [\n          \"I would like to start off by saying that this was not my first trip to Universal Studios. My friends and I wanted to enjoy the day at one of our favorite parks from when we were younger. The price was 170.00 per adult for both universal studios and islands of adventure. If you couple that with an express pass it was another 65.00 I believe. We opted out of the express pass. So for a group of four for one day it was roughly 680.00 for the day. When you factor in parking at 20.00 per vehicle, we minimized by parking off site and taking one vehicle to the theme park. We are now at 700.00. We haven't yet factored in drinks, food, souvenirs..... I know these are the extras, but let's face it.. after spending that kind of money you will want to have something to remember it by. Might I suggest the nine dollar spongebob key chain sold directly next to the e.t. ride?  The food was pretty darn good for a theme park. We chose to eat at an Irish restaurant and we were all very pleased with our orders. The service was also top notch! If you enjoy an adult beverage there is no better choice for theme parks, as this one has the best to offer in that regard. Off topic, their Halloween horror nights are very cool....but I haven't been in over a year so the review wont be about those special events.  Lets look at rides..... I dont know if you've been to a theme park lately, but they are starting to get into the nasty habit of just giving you 3d goggles, spraying you with water and putting you in a motion ride...... not very much creativity is going into these, but sometimes the ambience and production value can still make the ride very fun. (I miss jaws, but not back to the future) The new King Kong Skull Island ride is a good representation of this.....surprisingly it was a great ride, while still utilizing the same old bag of trucks the other 3d rides had going for it.....but then there's the one.....  A ride so terrible it prompted me to get on here and write a review of a theme park, something I have never done....but may begin to. Universal studios should be ashamed of the new Fast and Furious ride......this ride is god awful. The acting is b rated at best, the story is absolute garbage.....the writers should be fired immediately.... the CGI is out of this world bad, like 15 years dated the day it came out. The ride isn't even fun to be on and it leaves you shaking your head....please please please....do not waste your time with this waste of space.  You will note the one good part of the ride in the photos.....you get to meet a wax vin diesel. Also please note the disrepair of the dinosaurs in jurassic park's ride. I really hope someone at corporate will see this and fix these issues before they get a bad rep and no one will pay the 170 to enter, but sadly a sucker is born every day. So I leave this review with my child hood. The dream of walking with dinosaurs, flying by the moon with an alien buddy, shooting a grenade launcher at jaws and being knocked near to a lava pit by biff. Those days appear to be in the past for this old school lover of the originals.....  P.s. Harry Potter world is amazing!\",\n          \"Visited here as part of a 10 night holiday in Orlando. Having visited the Disney parks, Busch Gardens and Universal Studios, I can safely say it's the best all round park!  Granted, it is more geared towards adults than Disney, but there is still loads to do for kids.  Be sure to get the whole day refillable drink, as this is well worth the money.  The staff are top notch - quick, helpful and efficient meaning ride queue times are relatively short considering the number of guests. Be prepared to use the 'single rider' queues to save yourself valuable time. I would not recommend the 'fast track'. This is $80 for the day, which is a complete rip-off considering the price of the park ticket and that the longest we queued was about 40 minutes. Also, the fast track does not include either of the most popular rides - the Harry Potter ones.  Overall, a fantastic theme park, which is very well maintained and run. A must do for Orlando.\",\n          \"spent two days being 50 year old children. loved all the rides but The Mummy, Minions and Harry Potter and the forbidden forest were favourites.\"\n        ],\n        \"semantic_type\": \"\",\n        \"description\": \"\"\n      }\n    },\n    {\n      \"column\": \"branch\",\n      \"properties\": {\n        \"dtype\": \"category\",\n        \"num_unique_values\": 3,\n        \"samples\": [\n          \"Universal Studios Florida\",\n          \"Universal Studios Japan\",\n          \"Universal Studios Singapore\"\n        ],\n        \"semantic_type\": \"\",\n        \"description\": \"\"\n      }\n    }\n  ]\n}"
            }
          },
          "metadata": {},
          "execution_count": 613
        }
      ]
    },
    {
      "cell_type": "markdown",
      "source": [
        "#Data Cleaning"
      ],
      "metadata": {
        "id": "WpwAPt6mcUWt"
      }
    },
    {
      "cell_type": "markdown",
      "source": [
        "##Checking Null Values"
      ],
      "metadata": {
        "id": "9wGpwH-m0elJ"
      }
    },
    {
      "cell_type": "markdown",
      "source": [
        "Checking if there is a null values in the dataset"
      ],
      "metadata": {
        "id": "NO3p9ogrUUvo"
      }
    },
    {
      "cell_type": "code",
      "source": [
        "df.isnull().sum()"
      ],
      "metadata": {
        "colab": {
          "base_uri": "https://localhost:8080/",
          "height": 272
        },
        "id": "DUxUuls1UM92",
        "outputId": "0b5265cb-3205-44fa-ce5b-111e1f7bc412"
      },
      "execution_count": null,
      "outputs": [
        {
          "output_type": "execute_result",
          "data": {
            "text/plain": [
              "reviewer        0\n",
              "rating          0\n",
              "written_date    0\n",
              "title           0\n",
              "review_text     0\n",
              "branch          0\n",
              "dtype: int64"
            ],
            "text/html": [
              "<div>\n",
              "<style scoped>\n",
              "    .dataframe tbody tr th:only-of-type {\n",
              "        vertical-align: middle;\n",
              "    }\n",
              "\n",
              "    .dataframe tbody tr th {\n",
              "        vertical-align: top;\n",
              "    }\n",
              "\n",
              "    .dataframe thead th {\n",
              "        text-align: right;\n",
              "    }\n",
              "</style>\n",
              "<table border=\"1\" class=\"dataframe\">\n",
              "  <thead>\n",
              "    <tr style=\"text-align: right;\">\n",
              "      <th></th>\n",
              "      <th>0</th>\n",
              "    </tr>\n",
              "  </thead>\n",
              "  <tbody>\n",
              "    <tr>\n",
              "      <th>reviewer</th>\n",
              "      <td>0</td>\n",
              "    </tr>\n",
              "    <tr>\n",
              "      <th>rating</th>\n",
              "      <td>0</td>\n",
              "    </tr>\n",
              "    <tr>\n",
              "      <th>written_date</th>\n",
              "      <td>0</td>\n",
              "    </tr>\n",
              "    <tr>\n",
              "      <th>title</th>\n",
              "      <td>0</td>\n",
              "    </tr>\n",
              "    <tr>\n",
              "      <th>review_text</th>\n",
              "      <td>0</td>\n",
              "    </tr>\n",
              "    <tr>\n",
              "      <th>branch</th>\n",
              "      <td>0</td>\n",
              "    </tr>\n",
              "  </tbody>\n",
              "</table>\n",
              "</div><br><label><b>dtype:</b> int64</label>"
            ]
          },
          "metadata": {},
          "execution_count": 614
        }
      ]
    },
    {
      "cell_type": "markdown",
      "source": [
        "##Checking Unique Values"
      ],
      "metadata": {
        "id": "erMrf6cL0pGi"
      }
    },
    {
      "cell_type": "markdown",
      "source": [
        "Checking the UNIQUE VALUES that are present in the dataset. Since there are only 44086 unique values and review text has 50847 unique values in the review_text column, we can say that there are some reviewer did review for more than 1 time, which can be valid since they can visit the universal studio anytime."
      ],
      "metadata": {
        "id": "c02XFFaeY9mG"
      }
    },
    {
      "cell_type": "code",
      "source": [
        "for col in df.columns:\n",
        "  print(f\"{col}: {df[col].unique().size} unique values\")"
      ],
      "metadata": {
        "colab": {
          "base_uri": "https://localhost:8080/"
        },
        "id": "Aq3E45UkUbxJ",
        "outputId": "a6d521ec-9bc0-407b-ae9d-16be8cce0699"
      },
      "execution_count": null,
      "outputs": [
        {
          "output_type": "stream",
          "name": "stdout",
          "text": [
            "reviewer: 44086 unique values\n",
            "rating: 5 unique values\n",
            "written_date: 4276 unique values\n",
            "title: 37522 unique values\n",
            "review_text: 50847 unique values\n",
            "branch: 3 unique values\n"
          ]
        }
      ]
    },
    {
      "cell_type": "markdown",
      "source": [
        "##Removing Duplicate Data"
      ],
      "metadata": {
        "id": "P8R8irKGUlTK"
      }
    },
    {
      "cell_type": "code",
      "source": [
        "num_duplicates = df.duplicated(subset=['review_text']).sum()\n",
        "print(\"Duplicate Reviews:\", num_duplicates)\n",
        "\n",
        "# Remove rows with duplicate 'review_text' values\n",
        "df_no_duplicates = df.drop_duplicates(subset=['review_text'])\n",
        "\n",
        "# Verify the number of rows after removing duplicates\n",
        "print(\"Update Rows:\", df_no_duplicates.shape[0])\n",
        "\n",
        "#Apply changes to the dataset\n",
        "df = df_no_duplicates\n"
      ],
      "metadata": {
        "id": "rbAH7WodUzkR",
        "colab": {
          "base_uri": "https://localhost:8080/"
        },
        "outputId": "b11cfc9e-65fb-4ac7-e6a1-62bd8c080bb7"
      },
      "execution_count": null,
      "outputs": [
        {
          "output_type": "stream",
          "name": "stdout",
          "text": [
            "Duplicate Reviews: 57\n",
            "Update Rows: 50847\n"
          ]
        }
      ]
    },
    {
      "cell_type": "code",
      "source": [
        "df.shape"
      ],
      "metadata": {
        "colab": {
          "base_uri": "https://localhost:8080/"
        },
        "id": "X-m4cHdSU47B",
        "outputId": "c8b8aae9-2325-4316-dfd4-63dbd2c0e914"
      },
      "execution_count": null,
      "outputs": [
        {
          "output_type": "execute_result",
          "data": {
            "text/plain": [
              "(50847, 6)"
            ]
          },
          "metadata": {},
          "execution_count": 617
        }
      ]
    },
    {
      "cell_type": "code",
      "source": [
        "df['review_text']"
      ],
      "metadata": {
        "colab": {
          "base_uri": "https://localhost:8080/",
          "height": 458
        },
        "id": "5UkKfxXbVHqH",
        "outputId": "1230ff2b-3f22-460c-c3c9-b88fd5bfb660"
      },
      "execution_count": null,
      "outputs": [
        {
          "output_type": "execute_result",
          "data": {
            "text/plain": [
              "0        We went to Universal over Memorial Day weekend...\n",
              "1        The food service is horrible. I’m not reviewin...\n",
              "2        I booked this vacation mainly to ride Hagrid m...\n",
              "3        When a person tries the test seat for the ride...\n",
              "4        Ok, I can't stress enough to anyone and everyo...\n",
              "                               ...                        \n",
              "50899    This is my first visit to a Universal Studio t...\n",
              "50900    We finally visited Singapore's very first them...\n",
              "50901    We visited during the first week of its 'soft ...\n",
              "50902    We visited on the 3rd day of the 'soft' openin...\n",
              "50903    My group managed to get the tickets for the 16...\n",
              "Name: review_text, Length: 50847, dtype: object"
            ],
            "text/html": [
              "<div>\n",
              "<style scoped>\n",
              "    .dataframe tbody tr th:only-of-type {\n",
              "        vertical-align: middle;\n",
              "    }\n",
              "\n",
              "    .dataframe tbody tr th {\n",
              "        vertical-align: top;\n",
              "    }\n",
              "\n",
              "    .dataframe thead th {\n",
              "        text-align: right;\n",
              "    }\n",
              "</style>\n",
              "<table border=\"1\" class=\"dataframe\">\n",
              "  <thead>\n",
              "    <tr style=\"text-align: right;\">\n",
              "      <th></th>\n",
              "      <th>review_text</th>\n",
              "    </tr>\n",
              "  </thead>\n",
              "  <tbody>\n",
              "    <tr>\n",
              "      <th>0</th>\n",
              "      <td>We went to Universal over Memorial Day weekend...</td>\n",
              "    </tr>\n",
              "    <tr>\n",
              "      <th>1</th>\n",
              "      <td>The food service is horrible. I’m not reviewin...</td>\n",
              "    </tr>\n",
              "    <tr>\n",
              "      <th>2</th>\n",
              "      <td>I booked this vacation mainly to ride Hagrid m...</td>\n",
              "    </tr>\n",
              "    <tr>\n",
              "      <th>3</th>\n",
              "      <td>When a person tries the test seat for the ride...</td>\n",
              "    </tr>\n",
              "    <tr>\n",
              "      <th>4</th>\n",
              "      <td>Ok, I can't stress enough to anyone and everyo...</td>\n",
              "    </tr>\n",
              "    <tr>\n",
              "      <th>...</th>\n",
              "      <td>...</td>\n",
              "    </tr>\n",
              "    <tr>\n",
              "      <th>50899</th>\n",
              "      <td>This is my first visit to a Universal Studio t...</td>\n",
              "    </tr>\n",
              "    <tr>\n",
              "      <th>50900</th>\n",
              "      <td>We finally visited Singapore's very first them...</td>\n",
              "    </tr>\n",
              "    <tr>\n",
              "      <th>50901</th>\n",
              "      <td>We visited during the first week of its 'soft ...</td>\n",
              "    </tr>\n",
              "    <tr>\n",
              "      <th>50902</th>\n",
              "      <td>We visited on the 3rd day of the 'soft' openin...</td>\n",
              "    </tr>\n",
              "    <tr>\n",
              "      <th>50903</th>\n",
              "      <td>My group managed to get the tickets for the 16...</td>\n",
              "    </tr>\n",
              "  </tbody>\n",
              "</table>\n",
              "<p>50847 rows × 1 columns</p>\n",
              "</div><br><label><b>dtype:</b> object</label>"
            ]
          },
          "metadata": {},
          "execution_count": 618
        }
      ]
    },
    {
      "cell_type": "markdown",
      "source": [
        "##Normalizing Reviewer Name"
      ],
      "metadata": {
        "id": "hUytP3ug0zfa"
      }
    },
    {
      "cell_type": "markdown",
      "source": [
        "Showing the initial inputs from the reviewer here, it is noticeable that it has inconsistent data format which makes it hard to understand."
      ],
      "metadata": {
        "id": "tawYLAJd5wSE"
      }
    },
    {
      "cell_type": "code",
      "source": [
        "df['reviewer']"
      ],
      "metadata": {
        "colab": {
          "base_uri": "https://localhost:8080/",
          "height": 458
        },
        "id": "48wJzjiBvGNy",
        "outputId": "88ed7b21-844e-4b06-cc72-08c9a1c2954a"
      },
      "execution_count": null,
      "outputs": [
        {
          "output_type": "execute_result",
          "data": {
            "text/plain": [
              "0                     Kelly B\n",
              "1                         Jon\n",
              "2                     Nerdy P\n",
              "3                   ran101278\n",
              "4             tammies20132015\n",
              "                 ...         \n",
              "50899                  vinz20\n",
              "50900                 betty l\n",
              "50901               spoonos65\n",
              "50902    HeatSeekerWrexham_UK\n",
              "50903            sc_myinitial\n",
              "Name: reviewer, Length: 50847, dtype: object"
            ],
            "text/html": [
              "<div>\n",
              "<style scoped>\n",
              "    .dataframe tbody tr th:only-of-type {\n",
              "        vertical-align: middle;\n",
              "    }\n",
              "\n",
              "    .dataframe tbody tr th {\n",
              "        vertical-align: top;\n",
              "    }\n",
              "\n",
              "    .dataframe thead th {\n",
              "        text-align: right;\n",
              "    }\n",
              "</style>\n",
              "<table border=\"1\" class=\"dataframe\">\n",
              "  <thead>\n",
              "    <tr style=\"text-align: right;\">\n",
              "      <th></th>\n",
              "      <th>reviewer</th>\n",
              "    </tr>\n",
              "  </thead>\n",
              "  <tbody>\n",
              "    <tr>\n",
              "      <th>0</th>\n",
              "      <td>Kelly B</td>\n",
              "    </tr>\n",
              "    <tr>\n",
              "      <th>1</th>\n",
              "      <td>Jon</td>\n",
              "    </tr>\n",
              "    <tr>\n",
              "      <th>2</th>\n",
              "      <td>Nerdy P</td>\n",
              "    </tr>\n",
              "    <tr>\n",
              "      <th>3</th>\n",
              "      <td>ran101278</td>\n",
              "    </tr>\n",
              "    <tr>\n",
              "      <th>4</th>\n",
              "      <td>tammies20132015</td>\n",
              "    </tr>\n",
              "    <tr>\n",
              "      <th>...</th>\n",
              "      <td>...</td>\n",
              "    </tr>\n",
              "    <tr>\n",
              "      <th>50899</th>\n",
              "      <td>vinz20</td>\n",
              "    </tr>\n",
              "    <tr>\n",
              "      <th>50900</th>\n",
              "      <td>betty l</td>\n",
              "    </tr>\n",
              "    <tr>\n",
              "      <th>50901</th>\n",
              "      <td>spoonos65</td>\n",
              "    </tr>\n",
              "    <tr>\n",
              "      <th>50902</th>\n",
              "      <td>HeatSeekerWrexham_UK</td>\n",
              "    </tr>\n",
              "    <tr>\n",
              "      <th>50903</th>\n",
              "      <td>sc_myinitial</td>\n",
              "    </tr>\n",
              "  </tbody>\n",
              "</table>\n",
              "<p>50847 rows × 1 columns</p>\n",
              "</div><br><label><b>dtype:</b> object</label>"
            ]
          },
          "metadata": {},
          "execution_count": 619
        }
      ]
    },
    {
      "cell_type": "markdown",
      "source": [
        "Making the reviewer name lowercase to ensure that all names have the same format and replacing all underscore symbol which are usually used in names into a white space"
      ],
      "metadata": {
        "id": "MvKMT6KAzOjR"
      }
    },
    {
      "cell_type": "code",
      "source": [
        "df['reviewer'] = df['reviewer'].str.lower().str.replace('_', ' ')"
      ],
      "metadata": {
        "id": "RvQIW_PNwHmT",
        "colab": {
          "base_uri": "https://localhost:8080/"
        },
        "outputId": "207656d3-7ffb-4ba1-e3a4-7c21933bc2f7"
      },
      "execution_count": null,
      "outputs": [
        {
          "output_type": "stream",
          "name": "stderr",
          "text": [
            "<ipython-input-620-296c8510d2f0>:1: SettingWithCopyWarning: \n",
            "A value is trying to be set on a copy of a slice from a DataFrame.\n",
            "Try using .loc[row_indexer,col_indexer] = value instead\n",
            "\n",
            "See the caveats in the documentation: https://pandas.pydata.org/pandas-docs/stable/user_guide/indexing.html#returning-a-view-versus-a-copy\n",
            "  df['reviewer'] = df['reviewer'].str.lower().str.replace('_', ' ')\n"
          ]
        }
      ]
    },
    {
      "cell_type": "code",
      "source": [
        "df"
      ],
      "metadata": {
        "colab": {
          "base_uri": "https://localhost:8080/",
          "height": 424
        },
        "id": "jRAjlJMww58M",
        "outputId": "aa075ff7-dfb5-4518-ee23-59e284d96da0"
      },
      "execution_count": null,
      "outputs": [
        {
          "output_type": "execute_result",
          "data": {
            "text/plain": [
              "                   reviewer  rating       written_date  \\\n",
              "0                   kelly b     2.0       May 30, 2021   \n",
              "1                       jon     1.0       May 30, 2021   \n",
              "2                   nerdy p     2.0       May 30, 2021   \n",
              "3                 ran101278     4.0       May 29, 2021   \n",
              "4           tammies20132015     5.0       May 28, 2021   \n",
              "...                     ...     ...                ...   \n",
              "50899                vinz20     4.0     March 29, 2010   \n",
              "50900               betty l     4.0     March 29, 2010   \n",
              "50901             spoonos65     4.0     March 28, 2010   \n",
              "50902  heatseekerwrexham uk     4.0     March 22, 2010   \n",
              "50903          sc myinitial     5.0  February 24, 2010   \n",
              "\n",
              "                                                   title  \\\n",
              "0      Universal is a complete Disaster - stick with ...   \n",
              "1                                   Food is hard to get.   \n",
              "2                                           Disappointed   \n",
              "3                                             My opinion   \n",
              "4                      The Bourne Stuntacular...MUST SEE   \n",
              "...                                                  ...   \n",
              "50899                           I'll Be Back Only If ...   \n",
              "50900             Universal Studios Singapore Experience   \n",
              "50901                 Impressive but not quite finished!   \n",
              "50902                       Small but beautifully marked   \n",
              "50903                            Excellent Sneak Preview   \n",
              "\n",
              "                                             review_text  \\\n",
              "0      We went to Universal over Memorial Day weekend...   \n",
              "1      The food service is horrible. I’m not reviewin...   \n",
              "2      I booked this vacation mainly to ride Hagrid m...   \n",
              "3      When a person tries the test seat for the ride...   \n",
              "4      Ok, I can't stress enough to anyone and everyo...   \n",
              "...                                                  ...   \n",
              "50899  This is my first visit to a Universal Studio t...   \n",
              "50900  We finally visited Singapore's very first them...   \n",
              "50901  We visited during the first week of its 'soft ...   \n",
              "50902  We visited on the 3rd day of the 'soft' openin...   \n",
              "50903  My group managed to get the tickets for the 16...   \n",
              "\n",
              "                            branch  \n",
              "0        Universal Studios Florida  \n",
              "1        Universal Studios Florida  \n",
              "2        Universal Studios Florida  \n",
              "3        Universal Studios Florida  \n",
              "4        Universal Studios Florida  \n",
              "...                            ...  \n",
              "50899  Universal Studios Singapore  \n",
              "50900  Universal Studios Singapore  \n",
              "50901  Universal Studios Singapore  \n",
              "50902  Universal Studios Singapore  \n",
              "50903  Universal Studios Singapore  \n",
              "\n",
              "[50847 rows x 6 columns]"
            ],
            "text/html": [
              "\n",
              "  <div id=\"df-a7a90839-81a5-438e-8566-7dd2b3f17ac9\" class=\"colab-df-container\">\n",
              "    <div>\n",
              "<style scoped>\n",
              "    .dataframe tbody tr th:only-of-type {\n",
              "        vertical-align: middle;\n",
              "    }\n",
              "\n",
              "    .dataframe tbody tr th {\n",
              "        vertical-align: top;\n",
              "    }\n",
              "\n",
              "    .dataframe thead th {\n",
              "        text-align: right;\n",
              "    }\n",
              "</style>\n",
              "<table border=\"1\" class=\"dataframe\">\n",
              "  <thead>\n",
              "    <tr style=\"text-align: right;\">\n",
              "      <th></th>\n",
              "      <th>reviewer</th>\n",
              "      <th>rating</th>\n",
              "      <th>written_date</th>\n",
              "      <th>title</th>\n",
              "      <th>review_text</th>\n",
              "      <th>branch</th>\n",
              "    </tr>\n",
              "  </thead>\n",
              "  <tbody>\n",
              "    <tr>\n",
              "      <th>0</th>\n",
              "      <td>kelly b</td>\n",
              "      <td>2.0</td>\n",
              "      <td>May 30, 2021</td>\n",
              "      <td>Universal is a complete Disaster - stick with ...</td>\n",
              "      <td>We went to Universal over Memorial Day weekend...</td>\n",
              "      <td>Universal Studios Florida</td>\n",
              "    </tr>\n",
              "    <tr>\n",
              "      <th>1</th>\n",
              "      <td>jon</td>\n",
              "      <td>1.0</td>\n",
              "      <td>May 30, 2021</td>\n",
              "      <td>Food is hard to get.</td>\n",
              "      <td>The food service is horrible. I’m not reviewin...</td>\n",
              "      <td>Universal Studios Florida</td>\n",
              "    </tr>\n",
              "    <tr>\n",
              "      <th>2</th>\n",
              "      <td>nerdy p</td>\n",
              "      <td>2.0</td>\n",
              "      <td>May 30, 2021</td>\n",
              "      <td>Disappointed</td>\n",
              "      <td>I booked this vacation mainly to ride Hagrid m...</td>\n",
              "      <td>Universal Studios Florida</td>\n",
              "    </tr>\n",
              "    <tr>\n",
              "      <th>3</th>\n",
              "      <td>ran101278</td>\n",
              "      <td>4.0</td>\n",
              "      <td>May 29, 2021</td>\n",
              "      <td>My opinion</td>\n",
              "      <td>When a person tries the test seat for the ride...</td>\n",
              "      <td>Universal Studios Florida</td>\n",
              "    </tr>\n",
              "    <tr>\n",
              "      <th>4</th>\n",
              "      <td>tammies20132015</td>\n",
              "      <td>5.0</td>\n",
              "      <td>May 28, 2021</td>\n",
              "      <td>The Bourne Stuntacular...MUST SEE</td>\n",
              "      <td>Ok, I can't stress enough to anyone and everyo...</td>\n",
              "      <td>Universal Studios Florida</td>\n",
              "    </tr>\n",
              "    <tr>\n",
              "      <th>...</th>\n",
              "      <td>...</td>\n",
              "      <td>...</td>\n",
              "      <td>...</td>\n",
              "      <td>...</td>\n",
              "      <td>...</td>\n",
              "      <td>...</td>\n",
              "    </tr>\n",
              "    <tr>\n",
              "      <th>50899</th>\n",
              "      <td>vinz20</td>\n",
              "      <td>4.0</td>\n",
              "      <td>March 29, 2010</td>\n",
              "      <td>I'll Be Back Only If ...</td>\n",
              "      <td>This is my first visit to a Universal Studio t...</td>\n",
              "      <td>Universal Studios Singapore</td>\n",
              "    </tr>\n",
              "    <tr>\n",
              "      <th>50900</th>\n",
              "      <td>betty l</td>\n",
              "      <td>4.0</td>\n",
              "      <td>March 29, 2010</td>\n",
              "      <td>Universal Studios Singapore Experience</td>\n",
              "      <td>We finally visited Singapore's very first them...</td>\n",
              "      <td>Universal Studios Singapore</td>\n",
              "    </tr>\n",
              "    <tr>\n",
              "      <th>50901</th>\n",
              "      <td>spoonos65</td>\n",
              "      <td>4.0</td>\n",
              "      <td>March 28, 2010</td>\n",
              "      <td>Impressive but not quite finished!</td>\n",
              "      <td>We visited during the first week of its 'soft ...</td>\n",
              "      <td>Universal Studios Singapore</td>\n",
              "    </tr>\n",
              "    <tr>\n",
              "      <th>50902</th>\n",
              "      <td>heatseekerwrexham uk</td>\n",
              "      <td>4.0</td>\n",
              "      <td>March 22, 2010</td>\n",
              "      <td>Small but beautifully marked</td>\n",
              "      <td>We visited on the 3rd day of the 'soft' openin...</td>\n",
              "      <td>Universal Studios Singapore</td>\n",
              "    </tr>\n",
              "    <tr>\n",
              "      <th>50903</th>\n",
              "      <td>sc myinitial</td>\n",
              "      <td>5.0</td>\n",
              "      <td>February 24, 2010</td>\n",
              "      <td>Excellent Sneak Preview</td>\n",
              "      <td>My group managed to get the tickets for the 16...</td>\n",
              "      <td>Universal Studios Singapore</td>\n",
              "    </tr>\n",
              "  </tbody>\n",
              "</table>\n",
              "<p>50847 rows × 6 columns</p>\n",
              "</div>\n",
              "    <div class=\"colab-df-buttons\">\n",
              "\n",
              "  <div class=\"colab-df-container\">\n",
              "    <button class=\"colab-df-convert\" onclick=\"convertToInteractive('df-a7a90839-81a5-438e-8566-7dd2b3f17ac9')\"\n",
              "            title=\"Convert this dataframe to an interactive table.\"\n",
              "            style=\"display:none;\">\n",
              "\n",
              "  <svg xmlns=\"http://www.w3.org/2000/svg\" height=\"24px\" viewBox=\"0 -960 960 960\">\n",
              "    <path d=\"M120-120v-720h720v720H120Zm60-500h600v-160H180v160Zm220 220h160v-160H400v160Zm0 220h160v-160H400v160ZM180-400h160v-160H180v160Zm440 0h160v-160H620v160ZM180-180h160v-160H180v160Zm440 0h160v-160H620v160Z\"/>\n",
              "  </svg>\n",
              "    </button>\n",
              "\n",
              "  <style>\n",
              "    .colab-df-container {\n",
              "      display:flex;\n",
              "      gap: 12px;\n",
              "    }\n",
              "\n",
              "    .colab-df-convert {\n",
              "      background-color: #E8F0FE;\n",
              "      border: none;\n",
              "      border-radius: 50%;\n",
              "      cursor: pointer;\n",
              "      display: none;\n",
              "      fill: #1967D2;\n",
              "      height: 32px;\n",
              "      padding: 0 0 0 0;\n",
              "      width: 32px;\n",
              "    }\n",
              "\n",
              "    .colab-df-convert:hover {\n",
              "      background-color: #E2EBFA;\n",
              "      box-shadow: 0px 1px 2px rgba(60, 64, 67, 0.3), 0px 1px 3px 1px rgba(60, 64, 67, 0.15);\n",
              "      fill: #174EA6;\n",
              "    }\n",
              "\n",
              "    .colab-df-buttons div {\n",
              "      margin-bottom: 4px;\n",
              "    }\n",
              "\n",
              "    [theme=dark] .colab-df-convert {\n",
              "      background-color: #3B4455;\n",
              "      fill: #D2E3FC;\n",
              "    }\n",
              "\n",
              "    [theme=dark] .colab-df-convert:hover {\n",
              "      background-color: #434B5C;\n",
              "      box-shadow: 0px 1px 3px 1px rgba(0, 0, 0, 0.15);\n",
              "      filter: drop-shadow(0px 1px 2px rgba(0, 0, 0, 0.3));\n",
              "      fill: #FFFFFF;\n",
              "    }\n",
              "  </style>\n",
              "\n",
              "    <script>\n",
              "      const buttonEl =\n",
              "        document.querySelector('#df-a7a90839-81a5-438e-8566-7dd2b3f17ac9 button.colab-df-convert');\n",
              "      buttonEl.style.display =\n",
              "        google.colab.kernel.accessAllowed ? 'block' : 'none';\n",
              "\n",
              "      async function convertToInteractive(key) {\n",
              "        const element = document.querySelector('#df-a7a90839-81a5-438e-8566-7dd2b3f17ac9');\n",
              "        const dataTable =\n",
              "          await google.colab.kernel.invokeFunction('convertToInteractive',\n",
              "                                                    [key], {});\n",
              "        if (!dataTable) return;\n",
              "\n",
              "        const docLinkHtml = 'Like what you see? Visit the ' +\n",
              "          '<a target=\"_blank\" href=https://colab.research.google.com/notebooks/data_table.ipynb>data table notebook</a>'\n",
              "          + ' to learn more about interactive tables.';\n",
              "        element.innerHTML = '';\n",
              "        dataTable['output_type'] = 'display_data';\n",
              "        await google.colab.output.renderOutput(dataTable, element);\n",
              "        const docLink = document.createElement('div');\n",
              "        docLink.innerHTML = docLinkHtml;\n",
              "        element.appendChild(docLink);\n",
              "      }\n",
              "    </script>\n",
              "  </div>\n",
              "\n",
              "\n",
              "<div id=\"df-421246ce-4e56-4c0f-bc5c-a628cac32f74\">\n",
              "  <button class=\"colab-df-quickchart\" onclick=\"quickchart('df-421246ce-4e56-4c0f-bc5c-a628cac32f74')\"\n",
              "            title=\"Suggest charts\"\n",
              "            style=\"display:none;\">\n",
              "\n",
              "<svg xmlns=\"http://www.w3.org/2000/svg\" height=\"24px\"viewBox=\"0 0 24 24\"\n",
              "     width=\"24px\">\n",
              "    <g>\n",
              "        <path d=\"M19 3H5c-1.1 0-2 .9-2 2v14c0 1.1.9 2 2 2h14c1.1 0 2-.9 2-2V5c0-1.1-.9-2-2-2zM9 17H7v-7h2v7zm4 0h-2V7h2v10zm4 0h-2v-4h2v4z\"/>\n",
              "    </g>\n",
              "</svg>\n",
              "  </button>\n",
              "\n",
              "<style>\n",
              "  .colab-df-quickchart {\n",
              "      --bg-color: #E8F0FE;\n",
              "      --fill-color: #1967D2;\n",
              "      --hover-bg-color: #E2EBFA;\n",
              "      --hover-fill-color: #174EA6;\n",
              "      --disabled-fill-color: #AAA;\n",
              "      --disabled-bg-color: #DDD;\n",
              "  }\n",
              "\n",
              "  [theme=dark] .colab-df-quickchart {\n",
              "      --bg-color: #3B4455;\n",
              "      --fill-color: #D2E3FC;\n",
              "      --hover-bg-color: #434B5C;\n",
              "      --hover-fill-color: #FFFFFF;\n",
              "      --disabled-bg-color: #3B4455;\n",
              "      --disabled-fill-color: #666;\n",
              "  }\n",
              "\n",
              "  .colab-df-quickchart {\n",
              "    background-color: var(--bg-color);\n",
              "    border: none;\n",
              "    border-radius: 50%;\n",
              "    cursor: pointer;\n",
              "    display: none;\n",
              "    fill: var(--fill-color);\n",
              "    height: 32px;\n",
              "    padding: 0;\n",
              "    width: 32px;\n",
              "  }\n",
              "\n",
              "  .colab-df-quickchart:hover {\n",
              "    background-color: var(--hover-bg-color);\n",
              "    box-shadow: 0 1px 2px rgba(60, 64, 67, 0.3), 0 1px 3px 1px rgba(60, 64, 67, 0.15);\n",
              "    fill: var(--button-hover-fill-color);\n",
              "  }\n",
              "\n",
              "  .colab-df-quickchart-complete:disabled,\n",
              "  .colab-df-quickchart-complete:disabled:hover {\n",
              "    background-color: var(--disabled-bg-color);\n",
              "    fill: var(--disabled-fill-color);\n",
              "    box-shadow: none;\n",
              "  }\n",
              "\n",
              "  .colab-df-spinner {\n",
              "    border: 2px solid var(--fill-color);\n",
              "    border-color: transparent;\n",
              "    border-bottom-color: var(--fill-color);\n",
              "    animation:\n",
              "      spin 1s steps(1) infinite;\n",
              "  }\n",
              "\n",
              "  @keyframes spin {\n",
              "    0% {\n",
              "      border-color: transparent;\n",
              "      border-bottom-color: var(--fill-color);\n",
              "      border-left-color: var(--fill-color);\n",
              "    }\n",
              "    20% {\n",
              "      border-color: transparent;\n",
              "      border-left-color: var(--fill-color);\n",
              "      border-top-color: var(--fill-color);\n",
              "    }\n",
              "    30% {\n",
              "      border-color: transparent;\n",
              "      border-left-color: var(--fill-color);\n",
              "      border-top-color: var(--fill-color);\n",
              "      border-right-color: var(--fill-color);\n",
              "    }\n",
              "    40% {\n",
              "      border-color: transparent;\n",
              "      border-right-color: var(--fill-color);\n",
              "      border-top-color: var(--fill-color);\n",
              "    }\n",
              "    60% {\n",
              "      border-color: transparent;\n",
              "      border-right-color: var(--fill-color);\n",
              "    }\n",
              "    80% {\n",
              "      border-color: transparent;\n",
              "      border-right-color: var(--fill-color);\n",
              "      border-bottom-color: var(--fill-color);\n",
              "    }\n",
              "    90% {\n",
              "      border-color: transparent;\n",
              "      border-bottom-color: var(--fill-color);\n",
              "    }\n",
              "  }\n",
              "</style>\n",
              "\n",
              "  <script>\n",
              "    async function quickchart(key) {\n",
              "      const quickchartButtonEl =\n",
              "        document.querySelector('#' + key + ' button');\n",
              "      quickchartButtonEl.disabled = true;  // To prevent multiple clicks.\n",
              "      quickchartButtonEl.classList.add('colab-df-spinner');\n",
              "      try {\n",
              "        const charts = await google.colab.kernel.invokeFunction(\n",
              "            'suggestCharts', [key], {});\n",
              "      } catch (error) {\n",
              "        console.error('Error during call to suggestCharts:', error);\n",
              "      }\n",
              "      quickchartButtonEl.classList.remove('colab-df-spinner');\n",
              "      quickchartButtonEl.classList.add('colab-df-quickchart-complete');\n",
              "    }\n",
              "    (() => {\n",
              "      let quickchartButtonEl =\n",
              "        document.querySelector('#df-421246ce-4e56-4c0f-bc5c-a628cac32f74 button');\n",
              "      quickchartButtonEl.style.display =\n",
              "        google.colab.kernel.accessAllowed ? 'block' : 'none';\n",
              "    })();\n",
              "  </script>\n",
              "</div>\n",
              "\n",
              "  <div id=\"id_59743299-3bd8-4cb1-83a6-d51b05195685\">\n",
              "    <style>\n",
              "      .colab-df-generate {\n",
              "        background-color: #E8F0FE;\n",
              "        border: none;\n",
              "        border-radius: 50%;\n",
              "        cursor: pointer;\n",
              "        display: none;\n",
              "        fill: #1967D2;\n",
              "        height: 32px;\n",
              "        padding: 0 0 0 0;\n",
              "        width: 32px;\n",
              "      }\n",
              "\n",
              "      .colab-df-generate:hover {\n",
              "        background-color: #E2EBFA;\n",
              "        box-shadow: 0px 1px 2px rgba(60, 64, 67, 0.3), 0px 1px 3px 1px rgba(60, 64, 67, 0.15);\n",
              "        fill: #174EA6;\n",
              "      }\n",
              "\n",
              "      [theme=dark] .colab-df-generate {\n",
              "        background-color: #3B4455;\n",
              "        fill: #D2E3FC;\n",
              "      }\n",
              "\n",
              "      [theme=dark] .colab-df-generate:hover {\n",
              "        background-color: #434B5C;\n",
              "        box-shadow: 0px 1px 3px 1px rgba(0, 0, 0, 0.15);\n",
              "        filter: drop-shadow(0px 1px 2px rgba(0, 0, 0, 0.3));\n",
              "        fill: #FFFFFF;\n",
              "      }\n",
              "    </style>\n",
              "    <button class=\"colab-df-generate\" onclick=\"generateWithVariable('df')\"\n",
              "            title=\"Generate code using this dataframe.\"\n",
              "            style=\"display:none;\">\n",
              "\n",
              "  <svg xmlns=\"http://www.w3.org/2000/svg\" height=\"24px\"viewBox=\"0 0 24 24\"\n",
              "       width=\"24px\">\n",
              "    <path d=\"M7,19H8.4L18.45,9,17,7.55,7,17.6ZM5,21V16.75L18.45,3.32a2,2,0,0,1,2.83,0l1.4,1.43a1.91,1.91,0,0,1,.58,1.4,1.91,1.91,0,0,1-.58,1.4L9.25,21ZM18.45,9,17,7.55Zm-12,3A5.31,5.31,0,0,0,4.9,8.1,5.31,5.31,0,0,0,1,6.5,5.31,5.31,0,0,0,4.9,4.9,5.31,5.31,0,0,0,6.5,1,5.31,5.31,0,0,0,8.1,4.9,5.31,5.31,0,0,0,12,6.5,5.46,5.46,0,0,0,6.5,12Z\"/>\n",
              "  </svg>\n",
              "    </button>\n",
              "    <script>\n",
              "      (() => {\n",
              "      const buttonEl =\n",
              "        document.querySelector('#id_59743299-3bd8-4cb1-83a6-d51b05195685 button.colab-df-generate');\n",
              "      buttonEl.style.display =\n",
              "        google.colab.kernel.accessAllowed ? 'block' : 'none';\n",
              "\n",
              "      buttonEl.onclick = () => {\n",
              "        google.colab.notebook.generateWithVariable('df');\n",
              "      }\n",
              "      })();\n",
              "    </script>\n",
              "  </div>\n",
              "\n",
              "    </div>\n",
              "  </div>\n"
            ],
            "application/vnd.google.colaboratory.intrinsic+json": {
              "type": "dataframe",
              "variable_name": "df",
              "summary": "{\n  \"name\": \"df\",\n  \"rows\": 50847,\n  \"fields\": [\n    {\n      \"column\": \"reviewer\",\n      \"properties\": {\n        \"dtype\": \"string\",\n        \"num_unique_values\": 43481,\n        \"samples\": [\n          \"shishir c\",\n          \"harrypotterluver345\",\n          \"goodshink\"\n        ],\n        \"semantic_type\": \"\",\n        \"description\": \"\"\n      }\n    },\n    {\n      \"column\": \"rating\",\n      \"properties\": {\n        \"dtype\": \"number\",\n        \"std\": 1.0464406080195567,\n        \"min\": 1.0,\n        \"max\": 5.0,\n        \"num_unique_values\": 5,\n        \"samples\": [\n          1.0,\n          3.0,\n          4.0\n        ],\n        \"semantic_type\": \"\",\n        \"description\": \"\"\n      }\n    },\n    {\n      \"column\": \"written_date\",\n      \"properties\": {\n        \"dtype\": \"object\",\n        \"num_unique_values\": 4276,\n        \"samples\": [\n          \"June 22, 2019\",\n          \"November 3, 2019\",\n          \"October 6, 2013\"\n        ],\n        \"semantic_type\": \"\",\n        \"description\": \"\"\n      }\n    },\n    {\n      \"column\": \"title\",\n      \"properties\": {\n        \"dtype\": \"string\",\n        \"num_unique_values\": 37517,\n        \"samples\": [\n          \"Good except for discrimination and cut-throat prices\",\n          \"Experience the rides...\",\n          \"busy busy busy\"\n        ],\n        \"semantic_type\": \"\",\n        \"description\": \"\"\n      }\n    },\n    {\n      \"column\": \"review_text\",\n      \"properties\": {\n        \"dtype\": \"string\",\n        \"num_unique_values\": 50847,\n        \"samples\": [\n          \"I would like to start off by saying that this was not my first trip to Universal Studios. My friends and I wanted to enjoy the day at one of our favorite parks from when we were younger. The price was 170.00 per adult for both universal studios and islands of adventure. If you couple that with an express pass it was another 65.00 I believe. We opted out of the express pass. So for a group of four for one day it was roughly 680.00 for the day. When you factor in parking at 20.00 per vehicle, we minimized by parking off site and taking one vehicle to the theme park. We are now at 700.00. We haven't yet factored in drinks, food, souvenirs..... I know these are the extras, but let's face it.. after spending that kind of money you will want to have something to remember it by. Might I suggest the nine dollar spongebob key chain sold directly next to the e.t. ride?  The food was pretty darn good for a theme park. We chose to eat at an Irish restaurant and we were all very pleased with our orders. The service was also top notch! If you enjoy an adult beverage there is no better choice for theme parks, as this one has the best to offer in that regard. Off topic, their Halloween horror nights are very cool....but I haven't been in over a year so the review wont be about those special events.  Lets look at rides..... I dont know if you've been to a theme park lately, but they are starting to get into the nasty habit of just giving you 3d goggles, spraying you with water and putting you in a motion ride...... not very much creativity is going into these, but sometimes the ambience and production value can still make the ride very fun. (I miss jaws, but not back to the future) The new King Kong Skull Island ride is a good representation of this.....surprisingly it was a great ride, while still utilizing the same old bag of trucks the other 3d rides had going for it.....but then there's the one.....  A ride so terrible it prompted me to get on here and write a review of a theme park, something I have never done....but may begin to. Universal studios should be ashamed of the new Fast and Furious ride......this ride is god awful. The acting is b rated at best, the story is absolute garbage.....the writers should be fired immediately.... the CGI is out of this world bad, like 15 years dated the day it came out. The ride isn't even fun to be on and it leaves you shaking your head....please please please....do not waste your time with this waste of space.  You will note the one good part of the ride in the photos.....you get to meet a wax vin diesel. Also please note the disrepair of the dinosaurs in jurassic park's ride. I really hope someone at corporate will see this and fix these issues before they get a bad rep and no one will pay the 170 to enter, but sadly a sucker is born every day. So I leave this review with my child hood. The dream of walking with dinosaurs, flying by the moon with an alien buddy, shooting a grenade launcher at jaws and being knocked near to a lava pit by biff. Those days appear to be in the past for this old school lover of the originals.....  P.s. Harry Potter world is amazing!\",\n          \"Visited here as part of a 10 night holiday in Orlando. Having visited the Disney parks, Busch Gardens and Universal Studios, I can safely say it's the best all round park!  Granted, it is more geared towards adults than Disney, but there is still loads to do for kids.  Be sure to get the whole day refillable drink, as this is well worth the money.  The staff are top notch - quick, helpful and efficient meaning ride queue times are relatively short considering the number of guests. Be prepared to use the 'single rider' queues to save yourself valuable time. I would not recommend the 'fast track'. This is $80 for the day, which is a complete rip-off considering the price of the park ticket and that the longest we queued was about 40 minutes. Also, the fast track does not include either of the most popular rides - the Harry Potter ones.  Overall, a fantastic theme park, which is very well maintained and run. A must do for Orlando.\",\n          \"spent two days being 50 year old children. loved all the rides but The Mummy, Minions and Harry Potter and the forbidden forest were favourites.\"\n        ],\n        \"semantic_type\": \"\",\n        \"description\": \"\"\n      }\n    },\n    {\n      \"column\": \"branch\",\n      \"properties\": {\n        \"dtype\": \"category\",\n        \"num_unique_values\": 3,\n        \"samples\": [\n          \"Universal Studios Florida\",\n          \"Universal Studios Japan\",\n          \"Universal Studios Singapore\"\n        ],\n        \"semantic_type\": \"\",\n        \"description\": \"\"\n      }\n    }\n  ]\n}"
            }
          },
          "metadata": {},
          "execution_count": 621
        }
      ]
    },
    {
      "cell_type": "markdown",
      "source": [
        "Separating the words and numbers if it is combined in order to easily break down the name of the reviewer"
      ],
      "metadata": {
        "id": "LkZLgvqH6cdz"
      }
    },
    {
      "cell_type": "code",
      "source": [
        "import re\n",
        "\n",
        "def remove_numbers(name):\n",
        "  return re.sub(r'\\d+', '', name).strip()\n",
        "\n",
        "df['reviewer'] = df['reviewer'].apply(remove_numbers)\n",
        "df['reviewer']"
      ],
      "metadata": {
        "colab": {
          "base_uri": "https://localhost:8080/",
          "height": 458
        },
        "id": "iMlUfGvHzZVf",
        "outputId": "45b7a879-db03-4cc5-9aad-3c8669a6154d"
      },
      "execution_count": null,
      "outputs": [
        {
          "output_type": "execute_result",
          "data": {
            "text/plain": [
              "0                     kelly b\n",
              "1                         jon\n",
              "2                     nerdy p\n",
              "3                         ran\n",
              "4                     tammies\n",
              "                 ...         \n",
              "50899                    vinz\n",
              "50900                 betty l\n",
              "50901                 spoonos\n",
              "50902    heatseekerwrexham uk\n",
              "50903            sc myinitial\n",
              "Name: reviewer, Length: 50847, dtype: object"
            ],
            "text/html": [
              "<div>\n",
              "<style scoped>\n",
              "    .dataframe tbody tr th:only-of-type {\n",
              "        vertical-align: middle;\n",
              "    }\n",
              "\n",
              "    .dataframe tbody tr th {\n",
              "        vertical-align: top;\n",
              "    }\n",
              "\n",
              "    .dataframe thead th {\n",
              "        text-align: right;\n",
              "    }\n",
              "</style>\n",
              "<table border=\"1\" class=\"dataframe\">\n",
              "  <thead>\n",
              "    <tr style=\"text-align: right;\">\n",
              "      <th></th>\n",
              "      <th>reviewer</th>\n",
              "    </tr>\n",
              "  </thead>\n",
              "  <tbody>\n",
              "    <tr>\n",
              "      <th>0</th>\n",
              "      <td>kelly b</td>\n",
              "    </tr>\n",
              "    <tr>\n",
              "      <th>1</th>\n",
              "      <td>jon</td>\n",
              "    </tr>\n",
              "    <tr>\n",
              "      <th>2</th>\n",
              "      <td>nerdy p</td>\n",
              "    </tr>\n",
              "    <tr>\n",
              "      <th>3</th>\n",
              "      <td>ran</td>\n",
              "    </tr>\n",
              "    <tr>\n",
              "      <th>4</th>\n",
              "      <td>tammies</td>\n",
              "    </tr>\n",
              "    <tr>\n",
              "      <th>...</th>\n",
              "      <td>...</td>\n",
              "    </tr>\n",
              "    <tr>\n",
              "      <th>50899</th>\n",
              "      <td>vinz</td>\n",
              "    </tr>\n",
              "    <tr>\n",
              "      <th>50900</th>\n",
              "      <td>betty l</td>\n",
              "    </tr>\n",
              "    <tr>\n",
              "      <th>50901</th>\n",
              "      <td>spoonos</td>\n",
              "    </tr>\n",
              "    <tr>\n",
              "      <th>50902</th>\n",
              "      <td>heatseekerwrexham uk</td>\n",
              "    </tr>\n",
              "    <tr>\n",
              "      <th>50903</th>\n",
              "      <td>sc myinitial</td>\n",
              "    </tr>\n",
              "  </tbody>\n",
              "</table>\n",
              "<p>50847 rows × 1 columns</p>\n",
              "</div><br><label><b>dtype:</b> object</label>"
            ]
          },
          "metadata": {},
          "execution_count": 622
        }
      ]
    },
    {
      "cell_type": "code",
      "source": [
        "\n",
        "df['reviewer']\n"
      ],
      "metadata": {
        "colab": {
          "base_uri": "https://localhost:8080/",
          "height": 458
        },
        "id": "cUAdTfUIzovf",
        "outputId": "b622fcc4-42ac-431f-dce2-46e8e6cf62d4"
      },
      "execution_count": null,
      "outputs": [
        {
          "output_type": "execute_result",
          "data": {
            "text/plain": [
              "0                     kelly b\n",
              "1                         jon\n",
              "2                     nerdy p\n",
              "3                         ran\n",
              "4                     tammies\n",
              "                 ...         \n",
              "50899                    vinz\n",
              "50900                 betty l\n",
              "50901                 spoonos\n",
              "50902    heatseekerwrexham uk\n",
              "50903            sc myinitial\n",
              "Name: reviewer, Length: 50847, dtype: object"
            ],
            "text/html": [
              "<div>\n",
              "<style scoped>\n",
              "    .dataframe tbody tr th:only-of-type {\n",
              "        vertical-align: middle;\n",
              "    }\n",
              "\n",
              "    .dataframe tbody tr th {\n",
              "        vertical-align: top;\n",
              "    }\n",
              "\n",
              "    .dataframe thead th {\n",
              "        text-align: right;\n",
              "    }\n",
              "</style>\n",
              "<table border=\"1\" class=\"dataframe\">\n",
              "  <thead>\n",
              "    <tr style=\"text-align: right;\">\n",
              "      <th></th>\n",
              "      <th>reviewer</th>\n",
              "    </tr>\n",
              "  </thead>\n",
              "  <tbody>\n",
              "    <tr>\n",
              "      <th>0</th>\n",
              "      <td>kelly b</td>\n",
              "    </tr>\n",
              "    <tr>\n",
              "      <th>1</th>\n",
              "      <td>jon</td>\n",
              "    </tr>\n",
              "    <tr>\n",
              "      <th>2</th>\n",
              "      <td>nerdy p</td>\n",
              "    </tr>\n",
              "    <tr>\n",
              "      <th>3</th>\n",
              "      <td>ran</td>\n",
              "    </tr>\n",
              "    <tr>\n",
              "      <th>4</th>\n",
              "      <td>tammies</td>\n",
              "    </tr>\n",
              "    <tr>\n",
              "      <th>...</th>\n",
              "      <td>...</td>\n",
              "    </tr>\n",
              "    <tr>\n",
              "      <th>50899</th>\n",
              "      <td>vinz</td>\n",
              "    </tr>\n",
              "    <tr>\n",
              "      <th>50900</th>\n",
              "      <td>betty l</td>\n",
              "    </tr>\n",
              "    <tr>\n",
              "      <th>50901</th>\n",
              "      <td>spoonos</td>\n",
              "    </tr>\n",
              "    <tr>\n",
              "      <th>50902</th>\n",
              "      <td>heatseekerwrexham uk</td>\n",
              "    </tr>\n",
              "    <tr>\n",
              "      <th>50903</th>\n",
              "      <td>sc myinitial</td>\n",
              "    </tr>\n",
              "  </tbody>\n",
              "</table>\n",
              "<p>50847 rows × 1 columns</p>\n",
              "</div><br><label><b>dtype:</b> object</label>"
            ]
          },
          "metadata": {},
          "execution_count": 623
        }
      ]
    },
    {
      "cell_type": "markdown",
      "source": [
        "##Standardizing the date"
      ],
      "metadata": {
        "id": "WDHvazE432L4"
      }
    },
    {
      "cell_type": "markdown",
      "source": [
        "Changing the date into a certain format Month-Day-Year."
      ],
      "metadata": {
        "id": "NwTKhP9640vS"
      }
    },
    {
      "cell_type": "code",
      "source": [
        "df['written_date'] = pd.to_datetime(df['written_date']).dt.strftime('%m-%d-%Y')\n",
        "df['written_date']"
      ],
      "metadata": {
        "colab": {
          "base_uri": "https://localhost:8080/",
          "height": 458
        },
        "id": "v0cLp2Zx37iv",
        "outputId": "b55b7873-5971-4cc4-c7f3-51df71b10054"
      },
      "execution_count": null,
      "outputs": [
        {
          "output_type": "execute_result",
          "data": {
            "text/plain": [
              "0        05-30-2021\n",
              "1        05-30-2021\n",
              "2        05-30-2021\n",
              "3        05-29-2021\n",
              "4        05-28-2021\n",
              "            ...    \n",
              "50899    03-29-2010\n",
              "50900    03-29-2010\n",
              "50901    03-28-2010\n",
              "50902    03-22-2010\n",
              "50903    02-24-2010\n",
              "Name: written_date, Length: 50847, dtype: object"
            ],
            "text/html": [
              "<div>\n",
              "<style scoped>\n",
              "    .dataframe tbody tr th:only-of-type {\n",
              "        vertical-align: middle;\n",
              "    }\n",
              "\n",
              "    .dataframe tbody tr th {\n",
              "        vertical-align: top;\n",
              "    }\n",
              "\n",
              "    .dataframe thead th {\n",
              "        text-align: right;\n",
              "    }\n",
              "</style>\n",
              "<table border=\"1\" class=\"dataframe\">\n",
              "  <thead>\n",
              "    <tr style=\"text-align: right;\">\n",
              "      <th></th>\n",
              "      <th>written_date</th>\n",
              "    </tr>\n",
              "  </thead>\n",
              "  <tbody>\n",
              "    <tr>\n",
              "      <th>0</th>\n",
              "      <td>05-30-2021</td>\n",
              "    </tr>\n",
              "    <tr>\n",
              "      <th>1</th>\n",
              "      <td>05-30-2021</td>\n",
              "    </tr>\n",
              "    <tr>\n",
              "      <th>2</th>\n",
              "      <td>05-30-2021</td>\n",
              "    </tr>\n",
              "    <tr>\n",
              "      <th>3</th>\n",
              "      <td>05-29-2021</td>\n",
              "    </tr>\n",
              "    <tr>\n",
              "      <th>4</th>\n",
              "      <td>05-28-2021</td>\n",
              "    </tr>\n",
              "    <tr>\n",
              "      <th>...</th>\n",
              "      <td>...</td>\n",
              "    </tr>\n",
              "    <tr>\n",
              "      <th>50899</th>\n",
              "      <td>03-29-2010</td>\n",
              "    </tr>\n",
              "    <tr>\n",
              "      <th>50900</th>\n",
              "      <td>03-29-2010</td>\n",
              "    </tr>\n",
              "    <tr>\n",
              "      <th>50901</th>\n",
              "      <td>03-28-2010</td>\n",
              "    </tr>\n",
              "    <tr>\n",
              "      <th>50902</th>\n",
              "      <td>03-22-2010</td>\n",
              "    </tr>\n",
              "    <tr>\n",
              "      <th>50903</th>\n",
              "      <td>02-24-2010</td>\n",
              "    </tr>\n",
              "  </tbody>\n",
              "</table>\n",
              "<p>50847 rows × 1 columns</p>\n",
              "</div><br><label><b>dtype:</b> object</label>"
            ]
          },
          "metadata": {},
          "execution_count": 624
        }
      ]
    },
    {
      "cell_type": "code",
      "source": [
        "df.shape"
      ],
      "metadata": {
        "colab": {
          "base_uri": "https://localhost:8080/"
        },
        "id": "fSx8ZV7aXGok",
        "outputId": "7f17c2bc-363c-40a8-8086-d98fc78a2f85"
      },
      "execution_count": null,
      "outputs": [
        {
          "output_type": "execute_result",
          "data": {
            "text/plain": [
              "(50847, 6)"
            ]
          },
          "metadata": {},
          "execution_count": 625
        }
      ]
    },
    {
      "cell_type": "markdown",
      "source": [
        "#Text Pre-Processing Techniques"
      ],
      "metadata": {
        "id": "ys8otk6phkIs"
      }
    },
    {
      "cell_type": "code",
      "source": [
        "df1 = df.copy()\n",
        "df1['review_text']"
      ],
      "metadata": {
        "colab": {
          "base_uri": "https://localhost:8080/",
          "height": 458
        },
        "id": "vWBbt56ulPE2",
        "outputId": "c2dfa717-9f54-433e-f613-0069ddfbb545"
      },
      "execution_count": null,
      "outputs": [
        {
          "output_type": "execute_result",
          "data": {
            "text/plain": [
              "0        We went to Universal over Memorial Day weekend...\n",
              "1        The food service is horrible. I’m not reviewin...\n",
              "2        I booked this vacation mainly to ride Hagrid m...\n",
              "3        When a person tries the test seat for the ride...\n",
              "4        Ok, I can't stress enough to anyone and everyo...\n",
              "                               ...                        \n",
              "50899    This is my first visit to a Universal Studio t...\n",
              "50900    We finally visited Singapore's very first them...\n",
              "50901    We visited during the first week of its 'soft ...\n",
              "50902    We visited on the 3rd day of the 'soft' openin...\n",
              "50903    My group managed to get the tickets for the 16...\n",
              "Name: review_text, Length: 50847, dtype: object"
            ],
            "text/html": [
              "<div>\n",
              "<style scoped>\n",
              "    .dataframe tbody tr th:only-of-type {\n",
              "        vertical-align: middle;\n",
              "    }\n",
              "\n",
              "    .dataframe tbody tr th {\n",
              "        vertical-align: top;\n",
              "    }\n",
              "\n",
              "    .dataframe thead th {\n",
              "        text-align: right;\n",
              "    }\n",
              "</style>\n",
              "<table border=\"1\" class=\"dataframe\">\n",
              "  <thead>\n",
              "    <tr style=\"text-align: right;\">\n",
              "      <th></th>\n",
              "      <th>review_text</th>\n",
              "    </tr>\n",
              "  </thead>\n",
              "  <tbody>\n",
              "    <tr>\n",
              "      <th>0</th>\n",
              "      <td>We went to Universal over Memorial Day weekend...</td>\n",
              "    </tr>\n",
              "    <tr>\n",
              "      <th>1</th>\n",
              "      <td>The food service is horrible. I’m not reviewin...</td>\n",
              "    </tr>\n",
              "    <tr>\n",
              "      <th>2</th>\n",
              "      <td>I booked this vacation mainly to ride Hagrid m...</td>\n",
              "    </tr>\n",
              "    <tr>\n",
              "      <th>3</th>\n",
              "      <td>When a person tries the test seat for the ride...</td>\n",
              "    </tr>\n",
              "    <tr>\n",
              "      <th>4</th>\n",
              "      <td>Ok, I can't stress enough to anyone and everyo...</td>\n",
              "    </tr>\n",
              "    <tr>\n",
              "      <th>...</th>\n",
              "      <td>...</td>\n",
              "    </tr>\n",
              "    <tr>\n",
              "      <th>50899</th>\n",
              "      <td>This is my first visit to a Universal Studio t...</td>\n",
              "    </tr>\n",
              "    <tr>\n",
              "      <th>50900</th>\n",
              "      <td>We finally visited Singapore's very first them...</td>\n",
              "    </tr>\n",
              "    <tr>\n",
              "      <th>50901</th>\n",
              "      <td>We visited during the first week of its 'soft ...</td>\n",
              "    </tr>\n",
              "    <tr>\n",
              "      <th>50902</th>\n",
              "      <td>We visited on the 3rd day of the 'soft' openin...</td>\n",
              "    </tr>\n",
              "    <tr>\n",
              "      <th>50903</th>\n",
              "      <td>My group managed to get the tickets for the 16...</td>\n",
              "    </tr>\n",
              "  </tbody>\n",
              "</table>\n",
              "<p>50847 rows × 1 columns</p>\n",
              "</div><br><label><b>dtype:</b> object</label>"
            ]
          },
          "metadata": {},
          "execution_count": 626
        }
      ]
    },
    {
      "cell_type": "markdown",
      "source": [
        "## Lowercasing"
      ],
      "metadata": {
        "id": "jjKvMnRqhpGE"
      }
    },
    {
      "cell_type": "markdown",
      "source": [
        "Creating a copy of df to ensure to have a backup of originial file. And converting each row in 'review_text' column in lowercase."
      ],
      "metadata": {
        "id": "X7L7TxqP8vnW"
      }
    },
    {
      "cell_type": "code",
      "source": [
        "\n",
        "df1['review_text'] = df1['review_text'].str.lower()\n",
        "df1['review_text']"
      ],
      "metadata": {
        "colab": {
          "base_uri": "https://localhost:8080/",
          "height": 458
        },
        "id": "MEsPg1VXh0x_",
        "outputId": "55832cfa-01cb-4bcc-d5a0-3be18e2e66da"
      },
      "execution_count": null,
      "outputs": [
        {
          "output_type": "execute_result",
          "data": {
            "text/plain": [
              "0        we went to universal over memorial day weekend...\n",
              "1        the food service is horrible. i’m not reviewin...\n",
              "2        i booked this vacation mainly to ride hagrid m...\n",
              "3        when a person tries the test seat for the ride...\n",
              "4        ok, i can't stress enough to anyone and everyo...\n",
              "                               ...                        \n",
              "50899    this is my first visit to a universal studio t...\n",
              "50900    we finally visited singapore's very first them...\n",
              "50901    we visited during the first week of its 'soft ...\n",
              "50902    we visited on the 3rd day of the 'soft' openin...\n",
              "50903    my group managed to get the tickets for the 16...\n",
              "Name: review_text, Length: 50847, dtype: object"
            ],
            "text/html": [
              "<div>\n",
              "<style scoped>\n",
              "    .dataframe tbody tr th:only-of-type {\n",
              "        vertical-align: middle;\n",
              "    }\n",
              "\n",
              "    .dataframe tbody tr th {\n",
              "        vertical-align: top;\n",
              "    }\n",
              "\n",
              "    .dataframe thead th {\n",
              "        text-align: right;\n",
              "    }\n",
              "</style>\n",
              "<table border=\"1\" class=\"dataframe\">\n",
              "  <thead>\n",
              "    <tr style=\"text-align: right;\">\n",
              "      <th></th>\n",
              "      <th>review_text</th>\n",
              "    </tr>\n",
              "  </thead>\n",
              "  <tbody>\n",
              "    <tr>\n",
              "      <th>0</th>\n",
              "      <td>we went to universal over memorial day weekend...</td>\n",
              "    </tr>\n",
              "    <tr>\n",
              "      <th>1</th>\n",
              "      <td>the food service is horrible. i’m not reviewin...</td>\n",
              "    </tr>\n",
              "    <tr>\n",
              "      <th>2</th>\n",
              "      <td>i booked this vacation mainly to ride hagrid m...</td>\n",
              "    </tr>\n",
              "    <tr>\n",
              "      <th>3</th>\n",
              "      <td>when a person tries the test seat for the ride...</td>\n",
              "    </tr>\n",
              "    <tr>\n",
              "      <th>4</th>\n",
              "      <td>ok, i can't stress enough to anyone and everyo...</td>\n",
              "    </tr>\n",
              "    <tr>\n",
              "      <th>...</th>\n",
              "      <td>...</td>\n",
              "    </tr>\n",
              "    <tr>\n",
              "      <th>50899</th>\n",
              "      <td>this is my first visit to a universal studio t...</td>\n",
              "    </tr>\n",
              "    <tr>\n",
              "      <th>50900</th>\n",
              "      <td>we finally visited singapore's very first them...</td>\n",
              "    </tr>\n",
              "    <tr>\n",
              "      <th>50901</th>\n",
              "      <td>we visited during the first week of its 'soft ...</td>\n",
              "    </tr>\n",
              "    <tr>\n",
              "      <th>50902</th>\n",
              "      <td>we visited on the 3rd day of the 'soft' openin...</td>\n",
              "    </tr>\n",
              "    <tr>\n",
              "      <th>50903</th>\n",
              "      <td>my group managed to get the tickets for the 16...</td>\n",
              "    </tr>\n",
              "  </tbody>\n",
              "</table>\n",
              "<p>50847 rows × 1 columns</p>\n",
              "</div><br><label><b>dtype:</b> object</label>"
            ]
          },
          "metadata": {},
          "execution_count": 627
        }
      ]
    },
    {
      "cell_type": "markdown",
      "source": [
        "This code will show the lowercase format of the first row."
      ],
      "metadata": {
        "id": "H_mTdNNl87ZF"
      }
    },
    {
      "cell_type": "code",
      "source": [
        "df1['review_text'].iloc[0]"
      ],
      "metadata": {
        "colab": {
          "base_uri": "https://localhost:8080/",
          "height": 122
        },
        "id": "mSlM1nvtiav9",
        "outputId": "747f18e7-f1bb-40b0-bd22-f0f84d7570e0"
      },
      "execution_count": null,
      "outputs": [
        {
          "output_type": "execute_result",
          "data": {
            "text/plain": [
              "'we went to universal over memorial day weekend and it was a total train wreck. we waited to get in the parking lot for about forty minutes. we paid for prime parking to make up for all the wasted time.  then we paid extra for the express pass 2-park tickets only to be turned away and sent to guest services bc the app didn’t show the bar code. the line at guest services took forever. they are clearly understaffed. we were sent to yet another guest services line because we had the express passes! also took ages! we spent nearly 2 hours just trying to enter the park! when we shared this with jackie at guest services she smirked, didn’t even apologize and was patronizing. this would never happen at disney.  once inside several of the rides didn’t work, when they reopened they were backed up so the express line on some rides was still a full hour wait and two hours without the express pass! we also saw people jump over and sneak in to the express lanes and then convince the workers to just let them on if there was a check point and it worked. we felt like complete suckers for paying for the express pass that still left us in long lines and that other people who didn’t pay could just sneak in to.  there were long lines to buy water, to use a restroom, to get a butter beer- it sucked.  horrible day. avoid this place, it’s a total disaster!'"
            ],
            "application/vnd.google.colaboratory.intrinsic+json": {
              "type": "string"
            }
          },
          "metadata": {},
          "execution_count": 628
        }
      ]
    },
    {
      "cell_type": "markdown",
      "source": [
        "## Removing Special Characters"
      ],
      "metadata": {
        "id": "j_qtAqChil1j"
      }
    },
    {
      "cell_type": "code",
      "source": [
        "df1['review_text'].iloc[0]"
      ],
      "metadata": {
        "colab": {
          "base_uri": "https://localhost:8080/",
          "height": 122
        },
        "id": "PVv9Crj1isRm",
        "outputId": "935ca3fb-2ba0-4602-fdff-3815090f6d21"
      },
      "execution_count": null,
      "outputs": [
        {
          "output_type": "execute_result",
          "data": {
            "text/plain": [
              "'we went to universal over memorial day weekend and it was a total train wreck. we waited to get in the parking lot for about forty minutes. we paid for prime parking to make up for all the wasted time.  then we paid extra for the express pass 2-park tickets only to be turned away and sent to guest services bc the app didn’t show the bar code. the line at guest services took forever. they are clearly understaffed. we were sent to yet another guest services line because we had the express passes! also took ages! we spent nearly 2 hours just trying to enter the park! when we shared this with jackie at guest services she smirked, didn’t even apologize and was patronizing. this would never happen at disney.  once inside several of the rides didn’t work, when they reopened they were backed up so the express line on some rides was still a full hour wait and two hours without the express pass! we also saw people jump over and sneak in to the express lanes and then convince the workers to just let them on if there was a check point and it worked. we felt like complete suckers for paying for the express pass that still left us in long lines and that other people who didn’t pay could just sneak in to.  there were long lines to buy water, to use a restroom, to get a butter beer- it sucked.  horrible day. avoid this place, it’s a total disaster!'"
            ],
            "application/vnd.google.colaboratory.intrinsic+json": {
              "type": "string"
            }
          },
          "metadata": {},
          "execution_count": 629
        }
      ]
    },
    {
      "cell_type": "markdown",
      "source": [
        "This shows the removal of sepcial characters testing in the first row in 'review_text' column. Anything that will not match the pattern '[^a-zA-Z0-9\\s]' will be removed."
      ],
      "metadata": {
        "id": "iJFUwvMe9L02"
      }
    },
    {
      "cell_type": "code",
      "source": [
        "import re\n",
        "\n",
        "# Removing special characters from the first row of 'review_text'\n",
        "text = df1['review_text'].iloc[0]\n",
        "text = re.sub(r'[^a-zA-Z0-9\\s]', '', text)\n",
        "print(text)\n"
      ],
      "metadata": {
        "colab": {
          "base_uri": "https://localhost:8080/"
        },
        "id": "wGrgEuzRizSF",
        "outputId": "e75a17b7-9dba-4dba-b5c2-4949490b5632"
      },
      "execution_count": null,
      "outputs": [
        {
          "output_type": "stream",
          "name": "stdout",
          "text": [
            "we went to universal over memorial day weekend and it was a total train wreck we waited to get in the parking lot for about forty minutes we paid for prime parking to make up for all the wasted time  then we paid extra for the express pass 2park tickets only to be turned away and sent to guest services bc the app didnt show the bar code the line at guest services took forever they are clearly understaffed we were sent to yet another guest services line because we had the express passes also took ages we spent nearly 2 hours just trying to enter the park when we shared this with jackie at guest services she smirked didnt even apologize and was patronizing this would never happen at disney  once inside several of the rides didnt work when they reopened they were backed up so the express line on some rides was still a full hour wait and two hours without the express pass we also saw people jump over and sneak in to the express lanes and then convince the workers to just let them on if there was a check point and it worked we felt like complete suckers for paying for the express pass that still left us in long lines and that other people who didnt pay could just sneak in to  there were long lines to buy water to use a restroom to get a butter beer it sucked  horrible day avoid this place its a total disaster\n"
          ]
        }
      ]
    },
    {
      "cell_type": "markdown",
      "source": [
        "This is the application of same process to the entire rows of the 'review_text' column. Using the function lambda, it takes each value of (x) which is the values from ['review_text'] column to apply the re.sub(r'[^a-zA-Z0-9\\s]'."
      ],
      "metadata": {
        "id": "retqRQLG-q0g"
      }
    },
    {
      "cell_type": "code",
      "source": [
        "df1['review_text'] = df1['review_text'].apply(lambda x: re.sub(r'[^a-zA-Z0-9\\s]', '', x))\n",
        "df1['review_text'].iloc[0]"
      ],
      "metadata": {
        "colab": {
          "base_uri": "https://localhost:8080/",
          "height": 122
        },
        "id": "Rdqj-KKLjtjY",
        "outputId": "6280620a-1f37-4611-fbde-7473fb32bc09"
      },
      "execution_count": null,
      "outputs": [
        {
          "output_type": "execute_result",
          "data": {
            "text/plain": [
              "'we went to universal over memorial day weekend and it was a total train wreck we waited to get in the parking lot for about forty minutes we paid for prime parking to make up for all the wasted time  then we paid extra for the express pass 2park tickets only to be turned away and sent to guest services bc the app didnt show the bar code the line at guest services took forever they are clearly understaffed we were sent to yet another guest services line because we had the express passes also took ages we spent nearly 2 hours just trying to enter the park when we shared this with jackie at guest services she smirked didnt even apologize and was patronizing this would never happen at disney  once inside several of the rides didnt work when they reopened they were backed up so the express line on some rides was still a full hour wait and two hours without the express pass we also saw people jump over and sneak in to the express lanes and then convince the workers to just let them on if there was a check point and it worked we felt like complete suckers for paying for the express pass that still left us in long lines and that other people who didnt pay could just sneak in to  there were long lines to buy water to use a restroom to get a butter beer it sucked  horrible day avoid this place its a total disaster'"
            ],
            "application/vnd.google.colaboratory.intrinsic+json": {
              "type": "string"
            }
          },
          "metadata": {},
          "execution_count": 631
        }
      ]
    },
    {
      "cell_type": "markdown",
      "source": [
        "##Removing Stopwords"
      ],
      "metadata": {
        "id": "zcpUH7p_n5OK"
      }
    },
    {
      "cell_type": "markdown",
      "source": [
        "Importing necessary library for stopwords. It will download all of the existing stopwords in the package 'stopwords'."
      ],
      "metadata": {
        "id": "2o2knkSNoECG"
      }
    },
    {
      "cell_type": "code",
      "source": [
        "import nltk\n",
        "nltk.download('stopwords')\n",
        "from nltk.corpus import stopwords\n",
        "stop_words = set(stopwords.words('english'))"
      ],
      "metadata": {
        "colab": {
          "base_uri": "https://localhost:8080/"
        },
        "id": "V-Olnz0jn-bQ",
        "outputId": "7e71e73a-b0f2-47aa-8f58-a93fc73da183"
      },
      "execution_count": null,
      "outputs": [
        {
          "output_type": "stream",
          "name": "stderr",
          "text": [
            "[nltk_data] Downloading package stopwords to /root/nltk_data...\n",
            "[nltk_data]   Package stopwords is already up-to-date!\n"
          ]
        }
      ]
    },
    {
      "cell_type": "markdown",
      "source": [
        "Creating a function that can be call in the next lines of code to remove the stopwords that will match the words that are stored in 'stop_words' variable. And if the word does not match in any word in stop_words variable it will be storedin fitered_words."
      ],
      "metadata": {
        "id": "Ch9p4YYBBdr0"
      }
    },
    {
      "cell_type": "code",
      "source": [
        "def remove_stopwords(text):\n",
        "  words = text.split()\n",
        "  filtered_words = [word for word in words if word.lower() not in stop_words]\n",
        "  return ' '.join(filtered_words)"
      ],
      "metadata": {
        "id": "-r-8QOzIocp5"
      },
      "execution_count": null,
      "outputs": []
    },
    {
      "cell_type": "markdown",
      "source": [
        "Testing the function to the previous text variable which as the first row of 'review_text' column to see if the function will work."
      ],
      "metadata": {
        "id": "Hkcq6TGXDGLm"
      }
    },
    {
      "cell_type": "code",
      "source": [
        "text = remove_stopwords(text)\n",
        "print(text)"
      ],
      "metadata": {
        "colab": {
          "base_uri": "https://localhost:8080/"
        },
        "id": "pSLsXDtXovbW",
        "outputId": "a264a223-481e-4790-c688-497e3c8872fb"
      },
      "execution_count": null,
      "outputs": [
        {
          "output_type": "stream",
          "name": "stdout",
          "text": [
            "went universal memorial day weekend total train wreck waited get parking lot forty minutes paid prime parking make wasted time paid extra express pass 2park tickets turned away sent guest services bc app didnt show bar code line guest services took forever clearly understaffed sent yet another guest services line express passes also took ages spent nearly 2 hours trying enter park shared jackie guest services smirked didnt even apologize patronizing would never happen disney inside several rides didnt work reopened backed express line rides still full hour wait two hours without express pass also saw people jump sneak express lanes convince workers let check point worked felt like complete suckers paying express pass still left us long lines people didnt pay could sneak long lines buy water use restroom get butter beer sucked horrible day avoid place total disaster\n"
          ]
        }
      ]
    },
    {
      "cell_type": "markdown",
      "source": [
        "Application of the function to all entries of the 'review_text' column."
      ],
      "metadata": {
        "id": "uMOfeoECDlAB"
      }
    },
    {
      "cell_type": "code",
      "source": [
        "df1['review_text'] = df1['review_text'].apply(remove_stopwords)\n",
        "df1['review_text'].iloc[0]"
      ],
      "metadata": {
        "colab": {
          "base_uri": "https://localhost:8080/",
          "height": 105
        },
        "id": "HSb9ANirog7P",
        "outputId": "a3ed195c-1dd1-4482-a0fe-855da7aae4cb"
      },
      "execution_count": null,
      "outputs": [
        {
          "output_type": "execute_result",
          "data": {
            "text/plain": [
              "'went universal memorial day weekend total train wreck waited get parking lot forty minutes paid prime parking make wasted time paid extra express pass 2park tickets turned away sent guest services bc app didnt show bar code line guest services took forever clearly understaffed sent yet another guest services line express passes also took ages spent nearly 2 hours trying enter park shared jackie guest services smirked didnt even apologize patronizing would never happen disney inside several rides didnt work reopened backed express line rides still full hour wait two hours without express pass also saw people jump sneak express lanes convince workers let check point worked felt like complete suckers paying express pass still left us long lines people didnt pay could sneak long lines buy water use restroom get butter beer sucked horrible day avoid place total disaster'"
            ],
            "application/vnd.google.colaboratory.intrinsic+json": {
              "type": "string"
            }
          },
          "metadata": {},
          "execution_count": 635
        }
      ]
    },
    {
      "cell_type": "markdown",
      "source": [
        "##Tokenization"
      ],
      "metadata": {
        "id": "Jjk7ACB7uO0-"
      }
    },
    {
      "cell_type": "markdown",
      "source": [
        "This imports the 'word_tokenize' package that will allow tokenization of the text that is required to be tokenized. Creating new column for only tokenized text."
      ],
      "metadata": {
        "id": "qdCE4yCnE55x"
      }
    },
    {
      "cell_type": "code",
      "source": [
        "from nltk.tokenize import word_tokenize\n",
        "nltk.download('punkt')\n",
        "df1['tokenized_text'] = df1['review_text'].apply(word_tokenize)\n"
      ],
      "metadata": {
        "colab": {
          "base_uri": "https://localhost:8080/"
        },
        "id": "SfeHWpwBuMux",
        "outputId": "0270e021-b1cf-4a13-9d85-ddefad4340b0"
      },
      "execution_count": null,
      "outputs": [
        {
          "output_type": "stream",
          "name": "stderr",
          "text": [
            "[nltk_data] Downloading package punkt to /root/nltk_data...\n",
            "[nltk_data]   Package punkt is already up-to-date!\n"
          ]
        }
      ]
    },
    {
      "cell_type": "code",
      "source": [
        "print(df1['tokenized_text'])"
      ],
      "metadata": {
        "colab": {
          "base_uri": "https://localhost:8080/"
        },
        "id": "S_hP2QW4tWbC",
        "outputId": "2d20afef-e7dd-4236-cc10-c07644660d10"
      },
      "execution_count": null,
      "outputs": [
        {
          "output_type": "stream",
          "name": "stdout",
          "text": [
            "0        [went, universal, memorial, day, weekend, tota...\n",
            "1        [food, service, horrible, im, reviewing, food,...\n",
            "2        [booked, vacation, mainly, ride, hagrid, motor...\n",
            "3        [person, tries, test, seat, rides, gets, green...\n",
            "4        [ok, cant, stress, enough, anyone, everyone, g...\n",
            "                               ...                        \n",
            "50899    [first, visit, universal, studio, theme, park,...\n",
            "50900    [finally, visited, singapores, first, theme, p...\n",
            "50901    [visited, first, week, soft, opening, unfortun...\n",
            "50902    [visited, 3rd, day, soft, opening, ticket, sal...\n",
            "50903    [group, managed, get, tickets, 16, february, 2...\n",
            "Name: tokenized_text, Length: 50847, dtype: object\n"
          ]
        }
      ]
    }
  ]
}